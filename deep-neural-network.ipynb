{
 "cells": [
  {
   "cell_type": "markdown",
   "metadata": {
    "collapsed": true,
    "pycharm": {
     "name": "#%% md\n"
    }
   },
   "source": [
    "# **DEEP NEURAL NETWORK ON MNIST USING KERAS**"
   ]
  },
  {
   "cell_type": "markdown",
   "metadata": {
    "pycharm": {
     "name": "#%% md\n"
    }
   },
   "source": [
    "In this exercise, we will perform a multiclass classification by implementing a deep neural network (multi-layer) for the MNIST dataset."
   ]
  },
  {
   "cell_type": "markdown",
   "metadata": {
    "pycharm": {
     "name": "#%% md\n"
    }
   },
   "source": [
    "Import the required libraries and packages:"
   ]
  },
  {
   "cell_type": "code",
   "execution_count": 1,
   "metadata": {
    "pycharm": {
     "name": "#%%\n"
    }
   },
   "outputs": [],
   "source": [
    "import tensorflow as tf\n",
    "import pandas as pd\n",
    "import matplotlib.pyplot as plt\n",
    "%matplotlib inline\n",
    "\n",
    "# Import Keras libraries\n",
    "from tensorflow.keras.models import Sequential\n",
    "from tensorflow.keras.layers import Dense\n",
    "from tensorflow.keras.layers import Flatten"
   ]
  },
  {
   "cell_type": "markdown",
   "metadata": {},
   "source": [
    "Load and normalize the MNIST data:"
   ]
  },
  {
   "cell_type": "code",
   "execution_count": 2,
   "metadata": {
    "pycharm": {
     "name": "#%%\n"
    }
   },
   "outputs": [],
   "source": [
    "mnist = tf.keras.datasets.mnist\n",
    "(train_features, train_labels), (test_features, test_labels) = mnist.load_data()\n",
    "# Normalize the training data\n",
    "train_features, test_features = train_features / 255.0, test_features / 255.0"
   ]
  },
  {
   "cell_type": "markdown",
   "metadata": {
    "pycharm": {
     "name": "#%% md\n"
    }
   },
   "source": [
    "Build the sequential model:"
   ]
  },
  {
   "cell_type": "code",
   "execution_count": 3,
   "metadata": {
    "pycharm": {
     "name": "#%%\n"
    }
   },
   "outputs": [],
   "source": [
    "model = Sequential()\n",
    "model.add(Flatten(input_shape=(28, 28)))\n",
    "model.add(Dense(units=50, activation='relu'))\n",
    "model.add(Dense(units=20, activation='relu'))\n",
    "model.add(Dense(units=10, activation='softmax'))"
   ]
  },
  {
   "cell_type": "raw",
   "metadata": {
    "pycharm": {
     "name": "#%% raw\n"
    }
   },
   "source": [
    "Config the training parameters using the `compile` method and examine the model:"
   ]
  },
  {
   "cell_type": "code",
   "execution_count": 4,
   "metadata": {
    "pycharm": {
     "name": "#%%\n"
    }
   },
   "outputs": [
    {
     "name": "stdout",
     "output_type": "stream",
     "text": [
      "Model: \"sequential\"\n",
      "_________________________________________________________________\n",
      "Layer (type)                 Output Shape              Param #   \n",
      "=================================================================\n",
      "flatten (Flatten)            (None, 784)               0         \n",
      "_________________________________________________________________\n",
      "dense (Dense)                (None, 50)                39250     \n",
      "_________________________________________________________________\n",
      "dense_1 (Dense)              (None, 20)                1020      \n",
      "_________________________________________________________________\n",
      "dense_2 (Dense)              (None, 10)                210       \n",
      "=================================================================\n",
      "Total params: 40,480\n",
      "Trainable params: 40,480\n",
      "Non-trainable params: 0\n",
      "_________________________________________________________________\n"
     ]
    }
   ],
   "source": [
    "model.compile(optimizer='adam', loss='sparse_categorical_crossentropy', metrics=['accuracy'])\n",
    "model.summary()"
   ]
  },
  {
   "cell_type": "markdown",
   "metadata": {
    "pycharm": {
     "name": "#%% md\n"
    }
   },
   "source": [
    "Train the model:"
   ]
  },
  {
   "cell_type": "code",
   "execution_count": 5,
   "metadata": {
    "pycharm": {
     "name": "#%%\n"
    }
   },
   "outputs": [
    {
     "name": "stdout",
     "output_type": "stream",
     "text": [
      "Epoch 1/50\n",
      "1875/1875 [==============================] - 3s 1ms/step - loss: 0.3558 - accuracy: 0.8963\n",
      "Epoch 2/50\n",
      "1875/1875 [==============================] - 3s 1ms/step - loss: 0.1601 - accuracy: 0.9524\n",
      "Epoch 3/50\n",
      "1875/1875 [==============================] - 3s 1ms/step - loss: 0.1225 - accuracy: 0.9642\n",
      "Epoch 4/50\n",
      "1875/1875 [==============================] - 3s 1ms/step - loss: 0.0992 - accuracy: 0.9698\n",
      "Epoch 5/50\n",
      "1875/1875 [==============================] - 3s 1ms/step - loss: 0.0832 - accuracy: 0.9746\n",
      "Epoch 6/50\n",
      "1875/1875 [==============================] - 3s 1ms/step - loss: 0.0718 - accuracy: 0.9777\n",
      "Epoch 7/50\n",
      "1875/1875 [==============================] - 3s 1ms/step - loss: 0.0617 - accuracy: 0.9806\n",
      "Epoch 8/50\n",
      "1875/1875 [==============================] - 3s 1ms/step - loss: 0.0538 - accuracy: 0.9834\n",
      "Epoch 9/50\n",
      "1875/1875 [==============================] - 3s 1ms/step - loss: 0.0492 - accuracy: 0.9842\n",
      "Epoch 10/50\n",
      "1875/1875 [==============================] - 3s 1ms/step - loss: 0.0435 - accuracy: 0.9860\n",
      "Epoch 11/50\n",
      "1875/1875 [==============================] - 3s 1ms/step - loss: 0.0394 - accuracy: 0.9873\n",
      "Epoch 12/50\n",
      "1875/1875 [==============================] - 3s 2ms/step - loss: 0.0339 - accuracy: 0.9889\n",
      "Epoch 13/50\n",
      "1875/1875 [==============================] - 3s 2ms/step - loss: 0.0319 - accuracy: 0.9896\n",
      "Epoch 14/50\n",
      "1875/1875 [==============================] - 3s 1ms/step - loss: 0.0298 - accuracy: 0.9903\n",
      "Epoch 15/50\n",
      "1875/1875 [==============================] - 3s 2ms/step - loss: 0.0257 - accuracy: 0.9919\n",
      "Epoch 16/50\n",
      "1875/1875 [==============================] - 3s 1ms/step - loss: 0.0237 - accuracy: 0.9920\n",
      "Epoch 17/50\n",
      "1875/1875 [==============================] - 3s 2ms/step - loss: 0.0227 - accuracy: 0.9926\n",
      "Epoch 18/50\n",
      "1875/1875 [==============================] - 3s 2ms/step - loss: 0.0199 - accuracy: 0.9935\n",
      "Epoch 19/50\n",
      "1875/1875 [==============================] - 3s 1ms/step - loss: 0.0193 - accuracy: 0.9934\n",
      "Epoch 20/50\n",
      "1875/1875 [==============================] - 3s 1ms/step - loss: 0.0185 - accuracy: 0.9937\n",
      "Epoch 21/50\n",
      "1875/1875 [==============================] - 3s 1ms/step - loss: 0.0166 - accuracy: 0.9946\n",
      "Epoch 22/50\n",
      "1875/1875 [==============================] - 3s 1ms/step - loss: 0.0169 - accuracy: 0.9941\n",
      "Epoch 23/50\n",
      "1875/1875 [==============================] - 3s 2ms/step - loss: 0.0139 - accuracy: 0.9955\n",
      "Epoch 24/50\n",
      "1875/1875 [==============================] - 3s 2ms/step - loss: 0.0145 - accuracy: 0.9950\n",
      "Epoch 25/50\n",
      "1875/1875 [==============================] - 4s 2ms/step - loss: 0.0135 - accuracy: 0.9952\n",
      "Epoch 26/50\n",
      "1875/1875 [==============================] - 5s 3ms/step - loss: 0.0141 - accuracy: 0.9951\n",
      "Epoch 27/50\n",
      "1875/1875 [==============================] - 4s 2ms/step - loss: 0.0118 - accuracy: 0.9959\n",
      "Epoch 28/50\n",
      "1875/1875 [==============================] - 4s 2ms/step - loss: 0.0123 - accuracy: 0.9959\n",
      "Epoch 29/50\n",
      "1875/1875 [==============================] - 3s 2ms/step - loss: 0.0109 - accuracy: 0.9963\n",
      "Epoch 30/50\n",
      "1875/1875 [==============================] - 3s 2ms/step - loss: 0.0102 - accuracy: 0.9965\n",
      "Epoch 31/50\n",
      "1875/1875 [==============================] - 3s 2ms/step - loss: 0.0101 - accuracy: 0.9967\n",
      "Epoch 32/50\n",
      "1875/1875 [==============================] - 3s 1ms/step - loss: 0.0129 - accuracy: 0.9953\n",
      "Epoch 33/50\n",
      "1875/1875 [==============================] - 3s 1ms/step - loss: 0.0100 - accuracy: 0.9966\n",
      "Epoch 34/50\n",
      "1875/1875 [==============================] - 3s 1ms/step - loss: 0.0096 - accuracy: 0.9968\n",
      "Epoch 35/50\n",
      "1875/1875 [==============================] - 3s 1ms/step - loss: 0.0087 - accuracy: 0.9971\n",
      "Epoch 36/50\n",
      "1875/1875 [==============================] - 3s 1ms/step - loss: 0.0094 - accuracy: 0.9968\n",
      "Epoch 37/50\n",
      "1875/1875 [==============================] - 3s 1ms/step - loss: 0.0093 - accuracy: 0.9969\n",
      "Epoch 38/50\n",
      "1875/1875 [==============================] - 3s 2ms/step - loss: 0.0087 - accuracy: 0.9970\n",
      "Epoch 39/50\n",
      "1875/1875 [==============================] - 3s 1ms/step - loss: 0.0083 - accuracy: 0.9972\n",
      "Epoch 40/50\n",
      "1875/1875 [==============================] - 2s 1ms/step - loss: 0.0093 - accuracy: 0.9971\n",
      "Epoch 41/50\n",
      "1875/1875 [==============================] - 2s 1ms/step - loss: 0.0088 - accuracy: 0.9973\n",
      "Epoch 42/50\n",
      "1875/1875 [==============================] - 2s 1ms/step - loss: 0.0091 - accuracy: 0.9970\n",
      "Epoch 43/50\n",
      "1875/1875 [==============================] - 2s 1ms/step - loss: 0.0068 - accuracy: 0.9979\n",
      "Epoch 44/50\n",
      "1875/1875 [==============================] - 3s 1ms/step - loss: 0.0071 - accuracy: 0.9979\n",
      "Epoch 45/50\n",
      "1875/1875 [==============================] - 3s 1ms/step - loss: 0.0092 - accuracy: 0.9971\n",
      "Epoch 46/50\n",
      "1875/1875 [==============================] - 2s 1ms/step - loss: 0.0082 - accuracy: 0.9973\n",
      "Epoch 47/50\n",
      "1875/1875 [==============================] - 3s 1ms/step - loss: 0.0075 - accuracy: 0.9974\n",
      "Epoch 48/50\n",
      "1875/1875 [==============================] - 2s 1ms/step - loss: 0.0063 - accuracy: 0.9980\n",
      "Epoch 49/50\n",
      "1875/1875 [==============================] - 2s 1ms/step - loss: 0.0081 - accuracy: 0.9974\n",
      "Epoch 50/50\n",
      "1875/1875 [==============================] - 2s 1ms/step - loss: 0.0078 - accuracy: 0.9976\n"
     ]
    },
    {
     "data": {
      "text/plain": [
       "<tensorflow.python.keras.callbacks.History at 0x202287a8eb0>"
      ]
     },
     "execution_count": 5,
     "metadata": {},
     "output_type": "execute_result"
    }
   ],
   "source": [
    "model.fit(train_features, train_labels, epochs=50)"
   ]
  },
  {
   "cell_type": "markdown",
   "metadata": {
    "pycharm": {
     "name": "#%% md\n"
    }
   },
   "source": [
    "Test the model:"
   ]
  },
  {
   "cell_type": "code",
   "execution_count": 6,
   "metadata": {
    "pycharm": {
     "name": "#%%\n"
    }
   },
   "outputs": [
    {
     "name": "stdout",
     "output_type": "stream",
     "text": [
      "313/313 [==============================] - 0s 1ms/step - loss: 0.2266 - accuracy: 0.9736\n"
     ]
    },
    {
     "data": {
      "text/plain": [
       "[0.2266429215669632, 0.9735999703407288]"
      ]
     },
     "execution_count": 6,
     "metadata": {},
     "output_type": "execute_result"
    }
   ],
   "source": [
    "model.evaluate(test_features, test_labels)"
   ]
  },
  {
   "cell_type": "markdown",
   "metadata": {
    "pycharm": {
     "name": "#%% md\n"
    }
   },
   "source": [
    "Load a random image from a test dataset:"
   ]
  },
  {
   "cell_type": "code",
   "execution_count": 7,
   "metadata": {
    "pycharm": {
     "name": "#%%\n"
    }
   },
   "outputs": [],
   "source": [
    "loc = 200\n",
    "test_image = test_features[loc].reshape(1, 28, 28)"
   ]
  },
  {
   "cell_type": "code",
   "execution_count": 8,
   "metadata": {
    "pycharm": {
     "name": "#%%\n"
    }
   },
   "outputs": [
    {
     "name": "stdout",
     "output_type": "stream",
     "text": [
      "[[1.88080648e-26 3.14785793e-35 1.02946525e-26 1.00000000e+00\n",
      "  0.00000000e+00 2.60156202e-11 6.20911914e-23 0.00000000e+00\n",
      "  2.24952384e-15 1.63773567e-19]]\n"
     ]
    }
   ],
   "source": [
    "result = model.predict(test_image)\n",
    "print(result)"
   ]
  },
  {
   "cell_type": "markdown",
   "metadata": {},
   "source": [
    "The position of the highest value will be the prediction."
   ]
  },
  {
   "cell_type": "code",
   "execution_count": 9,
   "metadata": {},
   "outputs": [
    {
     "data": {
      "text/plain": [
       "3"
      ]
     },
     "execution_count": 9,
     "metadata": {},
     "output_type": "execute_result"
    }
   ],
   "source": [
    "result.argmax()"
   ]
  },
  {
   "cell_type": "code",
   "execution_count": 10,
   "metadata": {},
   "outputs": [
    {
     "data": {
      "text/plain": [
       "3"
      ]
     },
     "execution_count": 10,
     "metadata": {},
     "output_type": "execute_result"
    }
   ],
   "source": [
    "test_labels[loc]"
   ]
  },
  {
   "cell_type": "code",
   "execution_count": 11,
   "metadata": {},
   "outputs": [
    {
     "data": {
      "image/png": "[encoded data removed]",
      "text/plain": [
       "<Figure size 432x288 with 1 Axes>"
      ]
     },
     "metadata": {
      "needs_background": "light"
     },
     "output_type": "display_data"
    }
   ],
   "source": [
    "plt.imshow(test_features[loc]);"
   ]
  }
 ],
 "metadata": {
  "kernelspec": {
   "display_name": "Python 3",
   "language": "python",
   "name": "python3"
  },
  "language_info": {
   "codemirror_mode": {
    "name": "ipython",
    "version": 3
   },
   "file_extension": ".py",
   "mimetype": "text/x-python",
   "name": "python",
   "nbconvert_exporter": "python",
   "pygments_lexer": "ipython3",
   "version": "3.8.8"
  }
 },
 "nbformat": 4,
 "nbformat_minor": 1
}